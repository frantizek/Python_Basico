{
 "cells": [
  {
   "cell_type": "markdown",
   "id": "00247844",
   "metadata": {},
   "source": [
    "# 100 Problemas "
   ]
  },
  {
   "cell_type": "markdown",
   "id": "93969294",
   "metadata": {},
   "source": [
    "### 001. Consumir un servicio web"
   ]
  },
  {
   "cell_type": "code",
   "execution_count": null,
   "id": "6d30cc4b",
   "metadata": {},
   "outputs": [],
   "source": []
  },
  {
   "cell_type": "markdown",
   "id": "c3dee974",
   "metadata": {},
   "source": [
    "### 002. Descargar un archivo binario de internet"
   ]
  },
  {
   "cell_type": "code",
   "execution_count": null,
   "id": "632204a5",
   "metadata": {},
   "outputs": [],
   "source": []
  },
  {
   "cell_type": "markdown",
   "id": "d0412617",
   "metadata": {},
   "source": [
    "### 003. Descomprimir un archivo ZIP"
   ]
  },
  {
   "cell_type": "code",
   "execution_count": null,
   "id": "a37dffc7",
   "metadata": {},
   "outputs": [],
   "source": []
  },
  {
   "cell_type": "markdown",
   "id": "b1834281",
   "metadata": {},
   "source": [
    "### 004. Anagram"
   ]
  },
  {
   "cell_type": "code",
   "execution_count": 9,
   "id": "7baf55b8",
   "metadata": {},
   "outputs": [
    {
     "data": {
      "text/plain": [
       "True"
      ]
     },
     "execution_count": 9,
     "metadata": {},
     "output_type": "execute_result"
    }
   ],
   "source": [
    "def isAnagram(str1, str2):\n",
    "    \"\"\"\n",
    "    Receives \n",
    "\n",
    "    Args:\n",
    "        \n",
    "    Returns:\n",
    "        \n",
    "    \"\"\"\n",
    "    return ''.join(sorted(str1)) == ''.join(sorted(str2))\n",
    "\n",
    "isAnagram(\"ana\",\"ana\")"
   ]
  },
  {
   "cell_type": "markdown",
   "id": "2f6bcd4b",
   "metadata": {},
   "source": [
    "### 005. Palindrome"
   ]
  },
  {
   "cell_type": "code",
   "execution_count": null,
   "id": "8ecb4f72",
   "metadata": {},
   "outputs": [],
   "source": [
    "def isPalindrome(str1, str2):\n",
    "    \"\"\"\n",
    "    Receives \n",
    "\n",
    "    Args:\n",
    "        \n",
    "    Returns:\n",
    "        \n",
    "    \"\"\"\n",
    "    return str1 == str2[::-1] and str2 == str1[::-1]"
   ]
  },
  {
   "cell_type": "markdown",
   "id": "375057e1",
   "metadata": {},
   "source": [
    "### 094. Test suites"
   ]
  },
  {
   "cell_type": "code",
   "execution_count": null,
   "id": "b8498940",
   "metadata": {},
   "outputs": [],
   "source": []
  },
  {
   "cell_type": "markdown",
   "id": "a1c00436",
   "metadata": {},
   "source": [
    "### 095. Recursion - Factorial"
   ]
  },
  {
   "cell_type": "code",
   "execution_count": 1,
   "id": "e5c1bf91",
   "metadata": {},
   "outputs": [
    {
     "name": "stdout",
     "output_type": "stream",
     "text": [
      "720\n"
     ]
    }
   ],
   "source": [
    "def factorial(x):\n",
    "    \"\"\"\n",
    "    Receives \n",
    "\n",
    "    Args:\n",
    "        \n",
    "    Returns:\n",
    "        \n",
    "    \"\"\"\n",
    "    if x == 1:\n",
    "        return 1\n",
    "    else:\n",
    "        return x * factorial(x-1)\n",
    "    \n",
    "print(factorial(6))"
   ]
  },
  {
   "cell_type": "markdown",
   "id": "6722ff7e",
   "metadata": {},
   "source": [
    "### 096. Recursion - "
   ]
  },
  {
   "cell_type": "code",
   "execution_count": 2,
   "id": "f85d7739",
   "metadata": {},
   "outputs": [
    {
     "name": "stdout",
     "output_type": "stream",
     "text": [
      "True\n",
      "False\n"
     ]
    }
   ],
   "source": [
    "def is_even(x):\n",
    "    if x == 0:\n",
    "        return True\n",
    "    else:\n",
    "        return(is_odd(x-1))\n",
    "\n",
    "def is_odd(x):\n",
    "    return not is_even(x)\n",
    "\n",
    "print(is_odd(17))\n",
    "print(is_even(23))"
   ]
  },
  {
   "cell_type": "markdown",
   "id": "12e8c552",
   "metadata": {},
   "source": [
    "### 097. Recursion - "
   ]
  },
  {
   "cell_type": "code",
   "execution_count": 4,
   "id": "3221bacf",
   "metadata": {},
   "outputs": [
    {
     "name": "stdout",
     "output_type": "stream",
     "text": [
      "89\n"
     ]
    }
   ],
   "source": [
    "def fib(x):\n",
    "    if x == 0 or x == 1:\n",
    "        return 1\n",
    "    else:\n",
    "        return fib(x-1) + fib(x-2)\n",
    "\n",
    "print(fib(10))\n"
   ]
  },
  {
   "cell_type": "markdown",
   "id": "3d712872",
   "metadata": {},
   "source": [
    "### 098. Validar un numero de telefono en Mexico"
   ]
  },
  {
   "cell_type": "code",
   "execution_count": null,
   "id": "ac468a3b",
   "metadata": {},
   "outputs": [],
   "source": [
    "def validateMXphoneNum(ev_str):\n",
    "    \"\"\"\n",
    "    Receives a string, removes everything that is not a number and then evaluates if is a 10 digit value\n",
    "\n",
    "    Args:\n",
    "        ev_str: a string that might contain a phone number\n",
    "\n",
    "    Returns:\n",
    "        a valid telephone number with length of 10\n",
    "        otherwise False\n",
    "    \"\"\"\n",
    "    if any(c.isalpha() for c in ev_str):\n",
    "        print(\"Error, contiene letras\")\n",
    "        return False\n",
    "    else:\n",
    "        onlyNumbers = ''.join(c for c in str(ev_str) if c.isdigit())\n",
    "        if len(onlyNumbers) == 12 and onlyNumbers.startswith(\"52\"):\n",
    "            onlyNumbers = onlyNumbers[2:]\n",
    "        if len(onlyNumbers) != 10:\n",
    "            print(\"La longitud no es valida, enviaste \", len(onlyNumbers), \"numeros, intenta de nuevo\")\n",
    "            return False\n",
    "        else:\n",
    "            print(\"wa.me/52{}\".format(onlyNumbers))\n",
    "            return onlyNumbers"
   ]
  },
  {
   "cell_type": "markdown",
   "id": "796260fe",
   "metadata": {},
   "source": [
    "### 099. Validar una direccion email"
   ]
  },
  {
   "cell_type": "code",
   "execution_count": 5,
   "id": "8802c7f1",
   "metadata": {},
   "outputs": [
    {
     "name": "stdout",
     "output_type": "stream",
     "text": [
      "firstname+lastname@example.com\n",
      "Error, direccion email no valida.\n"
     ]
    },
    {
     "data": {
      "text/plain": [
       "False"
      ]
     },
     "execution_count": 5,
     "metadata": {},
     "output_type": "execute_result"
    }
   ],
   "source": [
    "import re\n",
    "\n",
    "regex = r'\\b[A-Za-z0-9._%+-]+@[A-Za-z0-9.-]+\\.[A-Z|a-z]{2,}\\b'\n",
    "\n",
    "\n",
    "def validateEmailAddress(eml):\n",
    "    \"\"\"\n",
    "    Receives\n",
    "\n",
    "    Args:\n",
    "        \n",
    "    Returns:\n",
    "        \n",
    "    \"\"\"    \n",
    "    email = str(eml)\n",
    "    re.fullmatch(regex, email.strip())\n",
    "    if re.fullmatch(regex, email.strip()):\n",
    "        print(\"{}\".format(re.fullmatch(regex, email.strip()).group()))\n",
    "        return re.fullmatch(regex, email.strip()).group()\n",
    "    else:\n",
    "        print(\"Error, direccion email no valida.\")\n",
    "        return False\n",
    "    \n",
    "validateEmailAddress(\"firstname+lastname@example.com\")\n",
    "validateEmailAddress(\"email@111.222.333.44444\")"
   ]
  },
  {
   "cell_type": "markdown",
   "id": "44161899",
   "metadata": {},
   "source": [
    "### 100. "
   ]
  }
 ],
 "metadata": {
  "kernelspec": {
   "display_name": "Python 3 (ipykernel)",
   "language": "python",
   "name": "python3"
  },
  "language_info": {
   "codemirror_mode": {
    "name": "ipython",
    "version": 3
   },
   "file_extension": ".py",
   "mimetype": "text/x-python",
   "name": "python",
   "nbconvert_exporter": "python",
   "pygments_lexer": "ipython3",
   "version": "3.7.7"
  }
 },
 "nbformat": 4,
 "nbformat_minor": 5
}
